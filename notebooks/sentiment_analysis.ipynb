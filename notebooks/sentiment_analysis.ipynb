{
  "cells": [
    {
      "cell_type": "code",
      "execution_count": 2,
      "metadata": {
        "id": "iTngLLKKtdNc"
      },
      "outputs": [
        {
          "name": "stdout",
          "output_type": "stream",
          "text": [
            "Requirement already satisfied: tweepy in c:\\users\\dell\\appdata\\local\\programs\\python\\python39\\lib\\site-packages (4.10.1)\n",
            "Requirement already satisfied: requests-oauthlib<2,>=1.2.0 in c:\\users\\dell\\appdata\\local\\programs\\python\\python39\\lib\\site-packages (from tweepy) (1.3.1)\n",
            "Requirement already satisfied: oauthlib<4,>=3.2.0 in c:\\users\\dell\\appdata\\local\\programs\\python\\python39\\lib\\site-packages (from tweepy) (3.2.1)\n",
            "Requirement already satisfied: requests<3,>=2.27.0 in c:\\users\\dell\\appdata\\local\\programs\\python\\python39\\lib\\site-packages (from tweepy) (2.28.1)\n",
            "Requirement already satisfied: charset-normalizer<3,>=2 in c:\\users\\dell\\appdata\\local\\programs\\python\\python39\\lib\\site-packages (from requests<3,>=2.27.0->tweepy) (2.1.1)\n",
            "Requirement already satisfied: certifi>=2017.4.17 in c:\\users\\dell\\appdata\\local\\programs\\python\\python39\\lib\\site-packages (from requests<3,>=2.27.0->tweepy) (2021.5.30)\n",
            "Requirement already satisfied: urllib3<1.27,>=1.21.1 in c:\\users\\dell\\appdata\\local\\programs\\python\\python39\\lib\\site-packages (from requests<3,>=2.27.0->tweepy) (1.24.3)\n",
            "Requirement already satisfied: idna<4,>=2.5 in c:\\users\\dell\\appdata\\local\\programs\\python\\python39\\lib\\site-packages (from requests<3,>=2.27.0->tweepy) (2.8)\n"
          ]
        }
      ],
      "source": [
        "!pip install tweepy"
      ]
    },
    {
      "cell_type": "code",
      "execution_count": 3,
      "metadata": {
        "id": "UqBUdR8SvlDx"
      },
      "outputs": [],
      "source": [
        "import tweepy\n",
        "from tweepy import OAuthHandler\n",
        "import pandas as pd\n",
        "import re\n",
        "from textblob import TextBlob"
      ]
    },
    {
      "cell_type": "code",
      "execution_count": 4,
      "metadata": {
        "id": "6PxhPqUBtbgi"
      },
      "outputs": [],
      "source": [
        "consumer_key = 'aFPmftKbB7FSHTaGxzynEb5FC'\n",
        "consumer_secret = 'pXLcyJFkxKWbQadcUbSM9kesP4rLZ8QXplzca64tKwsS4TnglN'\n",
        "access_token = '1275659737611284481-kqfUuvb4SZxWcy2IqJOgx7Hm7FGaW3'\n",
        "access_token_secret = '6XbkaVKJT8oOO0k6TmLrrnvpjOcCyX4XSmF38nX6lCH33'\n",
        "\n",
        "auth = tweepy.OAuthHandler(consumer_key, consumer_secret)\n",
        "auth.set_access_token(access_token, access_token_secret)\n",
        "\n",
        "api = tweepy.API(auth)"
      ]
    },
    {
      "cell_type": "code",
      "execution_count": 10,
      "metadata": {
        "id": "CAMfiOXZ2fyK"
      },
      "outputs": [],
      "source": [
        "def collect_tweets(search_words,date_since):\n",
        "# Collect tweets\n",
        "  tweets = tweepy.Cursor(api.search_tweets,\n",
        "                q=search_words,\n",
        "                lang=\"en\",\n",
        "                since=date_since).items(5)\n",
        "\n",
        "  # Iterate and print tweets\n",
        "  # for tweet in tweets:\n",
        "  #     print(tweet.text)\n",
        "\n",
        "  data = [[tweet.text] for tweet in tweets]\n",
        "  tweet_text_df = pd.DataFrame(data=data, \n",
        "                      columns=['tweet_text'])\n",
        "  return tweet_text_df"
      ]
    },
    {
      "cell_type": "code",
      "execution_count": 11,
      "metadata": {
        "id": "3lD4ZrGMOHQl"
      },
      "outputs": [],
      "source": [
        "def clean_tweet(s):\n",
        "  return ' '.join(re.sub(\"(@[A-Za-z0-9]+)|([^0-9A-Za-z \\t])|(\\w+:\\/\\/\\S+)\", \" \", s).split())"
      ]
    },
    {
      "cell_type": "code",
      "execution_count": 12,
      "metadata": {
        "id": "qDg40XuDOHU_"
      },
      "outputs": [],
      "source": [
        "def get_tweet_sentiment(tweet):\n",
        "  # create TextBlob object of passed tweet text\n",
        "  analysis = TextBlob(clean_tweet(tweet))\n",
        "  # set sentiment\n",
        "  if analysis.sentiment.polarity > 0:\n",
        "      return 'positive'\n",
        "  elif analysis.sentiment.polarity == 0:\n",
        "      return 'neutral'\n",
        "  else:\n",
        "      return 'negative'"
      ]
    },
    {
      "cell_type": "code",
      "execution_count": 13,
      "metadata": {
        "colab": {
          "base_uri": "https://localhost:8080/",
          "height": 606
        },
        "id": "za09yKUr4j52",
        "outputId": "3d665c13-e080-4f8b-d395-2bc024f301cd"
      },
      "outputs": [
        {
          "name": "stderr",
          "output_type": "stream",
          "text": [
            "Unexpected parameter: since\n"
          ]
        },
        {
          "name": "stdout",
          "output_type": "stream",
          "text": [
            "                                          tweet_text\n",
            "0  Trying not to lose sleep over this. It's gotte...\n",
            "1  RT @iamgtsmith: According to climate modelling...\n",
            "2  #HR1066 Wildfire Recovery Act was passed with ...\n",
            "3  According to climate modelling, B.C. may see a...\n",
            "4  RT @greendailynews: Wildfires are burning high...\n"
          ]
        }
      ],
      "source": [
        "if __name__ == \"__main__\":\n",
        "  # search_words = input(\"Enter the search term: \")\n",
        "  # print(search_words)\n",
        "  search_words = '#wildfires'\n",
        "  date_since = \"2018-11-16\"\n",
        "  tweet_text_df = collect_tweets(search_words,date_since)\n",
        " # tweet_text_df['tweet_text_cleaned'] = tweet_text_df.tweet_text.apply(clean_tweet)\n",
        " # tweet_text_df['tweet_sentiment'] = tweet_text_df.tweet_text_cleaned.apply(get_tweet_sentiment)\n",
        "  print(tweet_text_df)\n",
        "\n",
        " \n"
      ]
    }
  ],
  "metadata": {
    "colab": {
      "collapsed_sections": [],
      "name": "sentiment_analysis.ipynb",
      "provenance": []
    },
    "kernelspec": {
      "display_name": "Python 3.7.8rc1 64-bit",
      "language": "python",
      "name": "python3"
    },
    "language_info": {
      "codemirror_mode": {
        "name": "ipython",
        "version": 3
      },
      "file_extension": ".py",
      "mimetype": "text/x-python",
      "name": "python",
      "nbconvert_exporter": "python",
      "pygments_lexer": "ipython3",
      "version": "3.7.8rc1"
    },
    "vscode": {
      "interpreter": {
        "hash": "c83ba3a9c4a48792899d879b46f735cc064e383fea74913dc7b0456e36d4e99d"
      }
    }
  },
  "nbformat": 4,
  "nbformat_minor": 0
}
